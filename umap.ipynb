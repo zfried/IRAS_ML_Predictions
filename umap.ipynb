{
 "cells": [
  {
   "cell_type": "code",
   "execution_count": null,
   "id": "53525d2b",
   "metadata": {},
   "outputs": [],
   "source": [
    "!pip install git+https://github.com/samoturk/mol2vec\n",
    "from pathlib import Path\n",
    "from tempfile import NamedTemporaryFile\n",
    "import fileinput\n",
    "import os\n",
    "import rdkit\n",
    "import pandas as pd\n",
    "import numpy as np\n",
    "import mol2vec\n",
    "from mol2vec import features\n",
    "from mol2vec import helpers\n",
    "from rdkit import Chem\n",
    "from rdkit.Chem import Draw\n",
    "from rdkit.Chem.Draw import IPythonConsoleimport pkg_resources\n",
    "pkg_resources.require(\"gensim==3.8.3\")  \n",
    "import gensim\n",
    "from gensim.models import word2vec\n",
    "from mol2vec.features import mol2alt_sentence, mol2sentence, MolSentence, DfVec, sentences2vec\n",
    "from mol2vec.helpers import depict_identifier, plot_2D_vectors, IdentifierTable, mol_to_svg\n",
    "import seaborn as sns\n",
    "import matplotlib.pyplot as plt\n",
    "import gensim.downloader\n",
    "from rdkit import RDLogger   \n",
    "RDLogger.DisableLog('rdApp.*') # turn off RDKit warning message "
   ]
  },
  {
   "cell_type": "code",
   "execution_count": null,
   "id": "1ee5a86c",
   "metadata": {},
   "outputs": [],
   "source": [
    "!pip install umap-learn\n",
    "import umap.umap_ as umap"
   ]
  },
  {
   "cell_type": "code",
   "execution_count": null,
   "id": "1047575e",
   "metadata": {},
   "outputs": [],
   "source": [
    "'''\n",
    "Function that returns 2D and 3D UMAP projections of inputted vector set\n",
    "\n",
    "Input: SMILES strings and corresponding feature vectors\n",
    "Returns: 2D and 3D UMAP projections of the inputted vectors. Also saves the UMAP projection information\n",
    "in the dataframes umap2D.csv and umap3D.csv\n",
    "\n",
    "'''\n",
    "\n",
    "def run_umap(smiles, vectors):\n",
    "\n",
    "    umap_2d = umap.UMAP(n_components=2, init='random', random_state=0)\n",
    "    umap_3d = umap.UMAP(n_components=3, init='random', random_state=0)\n",
    "\n",
    "    proj_2d = umap_2d.fit_transform(xList300)\n",
    "    proj_3d = umap_3d.fit_transform(vectors)\n",
    "    \n",
    "    \n",
    "    proj2d_dim1 = [i[0] for i in proj_2d]\n",
    "    proj2d_dim2 = [i[1] for i in proj_2d]\n",
    "    \n",
    "    proj3d_dim1 = [i[0] for i in proj_3d]\n",
    "    proj3d_dim2 = [i[1] for i in proj_3d]\n",
    "    proj3d_dim3 = [i[2] for i in proj_3d]\n",
    "    \n",
    "    umap2D = pd.DataFrame()\n",
    "    umap3D = pd.DataFrame()\n",
    "   \n",
    "    umap2D['smiles'] = smiles\n",
    "    umap2D['dim1'] = proj2d_dim1\n",
    "    umap2D['dim2'] = proj2d_dim2\n",
    "    \n",
    "    umap3D['smiles'] = smiles\n",
    "    umap3D['dim1'] = proj3d_dim1\n",
    "    umap3D['dim2'] = proj3d_dim2\n",
    "    umap3D['dim3'] = proj3d_dim3\n",
    "    \n",
    "    savePath2D = os.path.join(os.getcwd(), 'all_files/Updated_Smiles/umap2D.csv')\n",
    "    umap2D.to_csv(savePath2D)\n",
    "  \n",
    "    savePath3D = os.path.join(os.getcwd(), 'all_files/Updated_Smiles/umap3D.csv')\n",
    "    umap3D.to_csv(savePath3D)\n",
    "    \n",
    "    return proj_2d, proj_3d\n",
    "    "
   ]
  },
  {
   "cell_type": "code",
   "execution_count": null,
   "id": "15760f45",
   "metadata": {},
   "outputs": [],
   "source": [
    "!pip install molplotly"
   ]
  },
  {
   "cell_type": "code",
   "execution_count": null,
   "id": "31d22b82",
   "metadata": {},
   "outputs": [],
   "source": [
    "umapPath = os.path.join(os.getcwd(), 'all_files/Updated_Smiles/detectionDataset.csv')\n",
    "umapUpload = pd.read_csv(fullPath)"
   ]
  },
  {
   "cell_type": "code",
   "execution_count": null,
   "id": "6cf46485",
   "metadata": {},
   "outputs": [],
   "source": [
    "#Plotting UMAP projection, points are colored by magnitude of prediction error\n",
    "\n",
    "import plotly.express as px\n",
    "import molplotly\n",
    "\n",
    "\n",
    "fig_pca = px.scatter(umapUpload,\n",
    "                     x=\"UMAP Dimension 1\",\n",
    "                     y=\"UMAP Dimension 2\",\n",
    "                     color='BR Prediction Error',\n",
    "                     title='Magnitude of Prediction Error',\n",
    "                     labels={'BR Prediction Error': 'BR Prediction Error'})\n",
    "\n",
    "app_pca = molplotly.add_molecules(fig=fig_pca,\n",
    "                                  df=umapUpload.rename(columns={'BR Prediction Error': 'BR Prediction Error'}),\n",
    "                                  smiles_col='smiles',\n",
    "                                  caption_cols=['BR Prediction Error'],\n",
    "                                  color_col='BR Prediction Error',\n",
    "                                  show_coords=True)\n",
    "\n",
    "app_pca.run_server(mode='inline', port=8707, height=850)"
   ]
  },
  {
   "cell_type": "code",
   "execution_count": null,
   "id": "c2a2515c",
   "metadata": {},
   "outputs": [],
   "source": [
    "#Plotting UMAP projection, points are colored by magnitude of prediction uncertainty\n",
    "\n",
    "\n",
    "fig_pca = px.scatter(umapUpload,\n",
    "                     x=\"UMAP Dimension 1\",\n",
    "                     y=\"UMAP Dimension 2\",\n",
    "                     color='sd',\n",
    "                     title='Magnitude of Standard Deviation',\n",
    "                     labels={'sd': 'Standard Deviation'})\n",
    "\n",
    "app_pca = molplotly.add_molecules(fig=fig_pca,\n",
    "                                  df=umapUpload.rename(columns={'sd': 'Standard Deviation'}),\n",
    "                                  smiles_col='smiles',\n",
    "                                  caption_cols=['Standard Deviation'],\n",
    "                                  color_col='Standard Deviation',\n",
    "                                  show_coords=True)\n",
    "\n",
    "app_pca.run_server(mode='inline', port=8707, height=850)"
   ]
  }
 ],
 "metadata": {
  "kernelspec": {
   "display_name": "Python 3 (ipykernel)",
   "language": "python",
   "name": "python3"
  },
  "language_info": {
   "codemirror_mode": {
    "name": "ipython",
    "version": 3
   },
   "file_extension": ".py",
   "mimetype": "text/x-python",
   "name": "python",
   "nbconvert_exporter": "python",
   "pygments_lexer": "ipython3",
   "version": "3.7.13"
  }
 },
 "nbformat": 4,
 "nbformat_minor": 5
}
